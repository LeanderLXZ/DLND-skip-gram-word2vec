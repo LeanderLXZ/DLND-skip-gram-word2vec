{
 "cells": [
  {
   "cell_type": "code",
   "execution_count": 1,
   "metadata": {
    "collapsed": true
   },
   "outputs": [],
   "source": [
    "x = 12"
   ]
  },
  {
   "cell_type": "code",
   "execution_count": 2,
   "metadata": {},
   "outputs": [
    {
     "data": {
      "text/plain": [
       "[12]"
      ]
     },
     "execution_count": 2,
     "metadata": {},
     "output_type": "execute_result"
    }
   ],
   "source": [
    "[x]"
   ]
  },
  {
   "cell_type": "code",
   "execution_count": 3,
   "metadata": {},
   "outputs": [
    {
     "data": {
      "text/plain": [
       "[12, 12, 12, 12, 12]"
      ]
     },
     "execution_count": 3,
     "metadata": {},
     "output_type": "execute_result"
    }
   ],
   "source": [
    "[x] * 5"
   ]
  },
  {
   "cell_type": "code",
   "execution_count": 8,
   "metadata": {},
   "outputs": [
    {
     "data": {
      "text/plain": [
       "array([49, 96, 28,  0, 43, 97, 15, 35])"
      ]
     },
     "execution_count": 8,
     "metadata": {},
     "output_type": "execute_result"
    }
   ],
   "source": [
    "import numpy as np\n",
    "import random\n",
    "\n",
    "valid_size = 16 # Random set of words to evaluate similarity on.\n",
    "valid_window = 100\n",
    "# pick 8 samples from (0,100) and (1000,1100) each ranges. lower id implies more frequent \n",
    "valid_examples = np.array(random.sample(range(valid_window), valid_size//2))\n",
    "valid_examples"
   ]
  },
  {
   "cell_type": "code",
   "execution_count": 12,
   "metadata": {},
   "outputs": [
    {
     "data": {
      "text/plain": [
       "array([  49,   96,   28,    0,   43,   97,   15,   35, 1011, 1034, 1027,\n",
       "       1079, 1048, 1013, 1085, 1093, 1057, 1063, 1080, 1085, 1010, 1059,\n",
       "       1039, 1074, 1001, 1009, 1092, 1016, 1062, 1063, 1010, 1078, 1001,\n",
       "       1077, 1057, 1083, 1024, 1030, 1053, 1097])"
      ]
     },
     "execution_count": 12,
     "metadata": {},
     "output_type": "execute_result"
    }
   ],
   "source": [
    "valid_examples = np.append(valid_examples, \n",
    "                               random.sample(range(1000,1000+valid_window), valid_size//2))\n",
    "valid_examples"
   ]
  },
  {
   "cell_type": "code",
   "execution_count": 13,
   "metadata": {
    "collapsed": true
   },
   "outputs": [],
   "source": [
    "import tensorflow as tf"
   ]
  },
  {
   "cell_type": "code",
   "execution_count": 21,
   "metadata": {},
   "outputs": [],
   "source": [
    "embedding = tf.constant([[0.1, 0.3, -0.4],\n",
    "                         [-0.2, -0.8, 0.5],\n",
    "                         [0.7, 0.9, -0.6]])\n",
    "a = tf.square(embedding)\n",
    "b = tf.reduce_sum(a, 1, keep_dims=True)\n",
    "c = tf.sqrt(b)"
   ]
  },
  {
   "cell_type": "code",
   "execution_count": 22,
   "metadata": {},
   "outputs": [
    {
     "name": "stdout",
     "output_type": "stream",
     "text": [
      "[[ 0.01        0.09        0.16000001]\n",
      " [ 0.04        0.64000005  0.25      ]\n",
      " [ 0.48999998  0.80999994  0.36000001]]\n",
      "[[ 0.26000002]\n",
      " [ 0.93000007]\n",
      " [ 1.65999997]]\n",
      "[[ 0.509902  ]\n",
      " [ 0.96436512]\n",
      " [ 1.28840983]]\n"
     ]
    }
   ],
   "source": [
    "with tf.Session() as sess:\n",
    "    out_a = sess.run(a)\n",
    "    print(out_a)\n",
    "    out_b = sess.run(b)\n",
    "    print(out_b)\n",
    "    out_c = sess.run(c)\n",
    "    print(out_c)"
   ]
  },
  {
   "cell_type": "code",
   "execution_count": null,
   "metadata": {
    "collapsed": true
   },
   "outputs": [],
   "source": []
  }
 ],
 "metadata": {
  "kernelspec": {
   "display_name": "Python 3",
   "language": "python",
   "name": "python3"
  },
  "language_info": {
   "codemirror_mode": {
    "name": "ipython",
    "version": 3
   },
   "file_extension": ".py",
   "mimetype": "text/x-python",
   "name": "python",
   "nbconvert_exporter": "python",
   "pygments_lexer": "ipython3",
   "version": "3.6.0"
  }
 },
 "nbformat": 4,
 "nbformat_minor": 2
}
